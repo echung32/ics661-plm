{
 "cells": [
  {
   "cell_type": "code",
   "execution_count": 1,
   "id": "6ac7b72e-23b3-4a42-a129-09f449a4c217",
   "metadata": {
    "deletable": true,
    "editable": true,
    "frozen": false
   },
   "outputs": [
    {
     "name": "stderr",
     "output_type": "stream",
     "text": [
      "2024-10-24 09:24:56.707782: E external/local_xla/xla/stream_executor/cuda/cuda_fft.cc:485] Unable to register cuFFT factory: Attempting to register factory for plugin cuFFT when one has already been registered\n",
      "2024-10-24 09:24:56.725790: E external/local_xla/xla/stream_executor/cuda/cuda_dnn.cc:8454] Unable to register cuDNN factory: Attempting to register factory for plugin cuDNN when one has already been registered\n",
      "2024-10-24 09:24:56.731195: E external/local_xla/xla/stream_executor/cuda/cuda_blas.cc:1452] Unable to register cuBLAS factory: Attempting to register factory for plugin cuBLAS when one has already been registered\n",
      "2024-10-24 09:24:56.745434: I tensorflow/core/platform/cpu_feature_guard.cc:210] This TensorFlow binary is optimized to use available CPU instructions in performance-critical operations.\n",
      "To enable the following instructions: AVX2 FMA, in other operations, rebuild TensorFlow with the appropriate compiler flags.\n",
      "2024-10-24 09:24:58.496285: W tensorflow/compiler/tf2tensorrt/utils/py_utils.cc:38] TF-TRT Warning: Could not find TensorRT\n",
      "[nltk_data] Downloading package stopwords to\n",
      "[nltk_data]     /home/echung32/nltk_data...\n",
      "[nltk_data]   Package stopwords is already up-to-date!\n"
     ]
    },
    {
     "name": "stdout",
     "output_type": "stream",
     "text": [
      "Found 25000 files belonging to 2 classes.\n",
      "Using 20000 files for training.\n"
     ]
    },
    {
     "name": "stderr",
     "output_type": "stream",
     "text": [
      "2024-10-24 09:25:02.504102: I tensorflow/core/common_runtime/gpu/gpu_device.cc:2021] Created device /job:localhost/replica:0/task:0/device:GPU:0 with 31134 MB memory:  -> device: 0, name: Tesla V100-SXM2-32GB, pci bus id: 0000:0b:00.0, compute capability: 7.0\n"
     ]
    },
    {
     "name": "stdout",
     "output_type": "stream",
     "text": [
      "Found 25000 files belonging to 2 classes.\n",
      "Using 5000 files for validation.\n",
      "Found 25000 files belonging to 2 classes.\n"
     ]
    }
   ],
   "source": [
    "import pandas as pd\n",
    "import tensorflow as tf\n",
    "\n",
    "import string\n",
    "import re\n",
    "import nltk\n",
    "nltk.download('stopwords')\n",
    "\n",
    "batch_size = 32\n",
    "seed = 42\n",
    "\n",
    "# Load dataset\n",
    "raw_train_ds = tf.keras.utils.text_dataset_from_directory(\n",
    "    '../rnn-assignment-2/train',\n",
    "    batch_size=batch_size,\n",
    "    validation_split=0.2,\n",
    "    subset='training',\n",
    "    seed=seed)\n",
    "\n",
    "raw_val_ds = tf.keras.utils.text_dataset_from_directory(\n",
    "    \"../rnn-assignment-2/train\",\n",
    "    batch_size=batch_size,\n",
    "    validation_split=0.2,\n",
    "    subset='validation',\n",
    "    seed=seed)\n",
    "\n",
    "raw_test_ds = tf.keras.utils.text_dataset_from_directory(\n",
    "    \"../rnn-assignment-2/test\",\n",
    "    batch_size=batch_size)\n",
    "\n",
    "raw_train_ds = raw_train_ds.cache().prefetch(buffer_size=tf.data.AUTOTUNE)\n",
    "raw_val_ds = raw_val_ds.cache().prefetch(buffer_size=tf.data.AUTOTUNE)\n",
    "raw_test_ds = raw_test_ds.cache().prefetch(buffer_size=tf.data.AUTOTUNE)\n",
    "\n",
    "swords = nltk.corpus.stopwords.words(\"english\")"
   ]
  },
  {
   "cell_type": "code",
   "execution_count": 4,
   "id": "0134ac22-3eb9-477f-9a6a-fa1b5cc588d6",
   "metadata": {},
   "outputs": [
    {
     "name": "stderr",
     "output_type": "stream",
     "text": [
      "2024-10-24 09:27:59.850070: I tensorflow/core/framework/local_rendezvous.cc:404] Local rendezvous is aborting with status: OUT_OF_RANGE: End of sequence\n"
     ]
    },
    {
     "name": "stdout",
     "output_type": "stream",
     "text": [
      "CSV files created successfully.\n"
     ]
    }
   ],
   "source": [
    "# clean the dataset\n",
    "def clean_text(input_data):\n",
    "    lowercase = input_data.lower()\n",
    "    strip_html = re.sub(r'<br\\s*/?>', '', lowercase)\n",
    "    strip_punctuation = re.sub(r'[%s]' % re.escape(string.punctuation), '', strip_html)\n",
    "    strip_stopwords = re.sub(r'\\b(' + r'|'.join(swords) + r')\\b\\s*', '', strip_punctuation)\n",
    "    return strip_stopwords\n",
    "\n",
    "# Function to convert dataset to DataFrame and then save as CSV\n",
    "def dataset_to_csv(dataset, filename):\n",
    "    texts = []\n",
    "    labels = []\n",
    "\n",
    "    for text_batch, label_batch in dataset:\n",
    "        texts.extend(text_batch.numpy().tolist())  # Convert tensors to lists\n",
    "        labels.extend(label_batch.numpy().tolist())  # Convert tensors to lists\n",
    "\n",
    "    cleaned_texts = [clean_text(t.decode('utf-8')) for t in texts]\n",
    "    \n",
    "    # Create a DataFrame\n",
    "    df = pd.DataFrame({\n",
    "        'text': cleaned_texts,\n",
    "        'label': labels\n",
    "    })\n",
    "\n",
    "    # Save to CSV\n",
    "    df.to_csv(filename, index=False)\n",
    "\n",
    "# Convert and save each dataset\n",
    "dataset_to_csv(raw_train_ds, 'pt1/train.csv')\n",
    "dataset_to_csv(raw_val_ds, 'pt1/val.csv')\n",
    "dataset_to_csv(raw_test_ds, 'pt1/test.csv')\n",
    "\n",
    "print(\"CSV files created successfully.\")"
   ]
  },
  {
   "cell_type": "code",
   "execution_count": null,
   "id": "5d384286-746b-4d7a-bce7-68723d3c0d08",
   "metadata": {
    "deletable": true,
    "editable": true,
    "frozen": false
   },
   "outputs": [],
   "source": []
  }
 ],
 "metadata": {
  "kernelspec": {
   "display_name": "Python 3 (ipykernel)",
   "language": "python",
   "name": "python3"
  },
  "language_info": {
   "codemirror_mode": {
    "name": "ipython",
    "version": 3
   },
   "file_extension": ".py",
   "mimetype": "text/x-python",
   "name": "python",
   "nbconvert_exporter": "python",
   "pygments_lexer": "ipython3",
   "version": "3.11.8"
  }
 },
 "nbformat": 4,
 "nbformat_minor": 5
}
