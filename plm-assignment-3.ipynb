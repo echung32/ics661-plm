{
 "cells": [
  {
   "cell_type": "markdown",
   "id": "8cb07fb5-45dc-43a3-98f5-132666969bec",
   "metadata": {
    "deletable": true,
    "editable": true,
    "frozen": false
   },
   "source": [
    "# ethan chung"
   ]
  },
  {
   "cell_type": "code",
   "execution_count": 3,
   "id": "75310078-e31f-4caf-b6da-cd910a3bb5d0",
   "metadata": {
    "deletable": true,
    "editable": true,
    "frozen": false
   },
   "outputs": [
    {
     "data": {
      "text/plain": [
       "[PhysicalDevice(name='/physical_device:GPU:0', device_type='GPU')]"
      ]
     },
     "execution_count": 3,
     "metadata": {},
     "output_type": "execute_result"
    }
   ],
   "source": [
    "import pandas as pd\n",
    "from transformers import GPT2Tokenizer, TFGPT2LMHeadModel\n",
    "import tensorflow as tf\n",
    "import matplotlib.pyplot as plt\n",
    "import re\n",
    "\n",
    "tf.config.list_physical_devices('GPU')"
   ]
  },
  {
   "cell_type": "markdown",
   "id": "743fb35e-b05e-4716-bb2a-e7df2058b552",
   "metadata": {
    "deletable": true,
    "editable": true,
    "frozen": false
   },
   "source": [
    "## load datasets (and clean URLs)"
   ]
  },
  {
   "cell_type": "code",
   "execution_count": 2,
   "id": "5b80c186-2bb0-478c-9c76-2a6d05026c8b",
   "metadata": {
    "deletable": true,
    "editable": true,
    "frozen": false
   },
   "outputs": [
    {
     "data": {
      "text/plain": [
       "0       What did the bartender say to the jumper cable...\n",
       "1       Don't you hate jokes about German sausage? The...\n",
       "2       Two artists had an art contest... It ended in ...\n",
       "3       Why did the chicken cross the playground? To g...\n",
       "4        What gun do you use to hunt a moose? A moosecut!\n",
       "                              ...                        \n",
       "1617    What do you call a camel with 3 humps? Humphre...\n",
       "1618    Two fish in a tank. [x-post from r/Jokes] One ...\n",
       "1619            \"Stay strong!\" I said to my wi-fi signal.\n",
       "1620    Why was the tomato blushing? Because it saw th...\n",
       "1621      What is heavy forward but not backward? **ton**\n",
       "Name: Joke, Length: 1622, dtype: object"
      ]
     },
     "metadata": {},
     "output_type": "display_data"
    }
   ],
   "source": [
    "# Load the dataset using pandas (Assuming your CSV has a column \"joke\")\n",
    "df = pd.read_csv(\"data.csv\")\n",
    "\n",
    "# Define a regex pattern to match URLs\n",
    "url_pattern = r'http\\S+|www\\S+|https\\S+'\n",
    "\n",
    "# Remove URLs from the jokes column using the regex pattern\n",
    "df['Joke'] = df['Joke'].apply(lambda text: re.sub(url_pattern, '', text))\n",
    "\n",
    "# Extract the cleaned jokes from the dataframe\n",
    "jokes = df['Joke'].tolist()\n",
    "\n",
    "display(df['Joke'])"
   ]
  },
  {
   "cell_type": "markdown",
   "id": "d83fbd8e-29e7-4c82-bd26-3f12a0096f79",
   "metadata": {
    "deletable": true,
    "editable": true,
    "frozen": false
   },
   "source": [
    "## init model"
   ]
  },
  {
   "cell_type": "code",
   "execution_count": 3,
   "id": "abfe31a2-b4ff-4dc7-8509-c5b0524d6bc2",
   "metadata": {
    "deletable": true,
    "editable": true,
    "frozen": false
   },
   "outputs": [
    {
     "name": "stderr",
     "output_type": "stream",
     "text": [
      "2024-10-24 06:43:12.328540: I tensorflow/core/common_runtime/gpu/gpu_device.cc:2021] Created device /job:localhost/replica:0/task:0/device:GPU:0 with 31134 MB memory:  -> device: 0, name: Tesla V100-SXM2-32GB, pci bus id: 0000:0b:00.0, compute capability: 7.0\n",
      "All PyTorch model weights were used when initializing TFGPT2LMHeadModel.\n",
      "\n",
      "All the weights of TFGPT2LMHeadModel were initialized from the PyTorch model.\n",
      "If your task is similar to the task the model of the checkpoint was trained on, you can already use TFGPT2LMHeadModel for predictions without further training.\n"
     ]
    }
   ],
   "source": [
    "# Load GPT-2 tokenizer\n",
    "tokenizer = GPT2Tokenizer.from_pretrained('gpt2')\n",
    "# Load pre-trained GPT-2 model\n",
    "model = TFGPT2LMHeadModel.from_pretrained('gpt2')\n",
    "\n",
    "# Add padding token for GPT-2 since GPT-2 does not have a pad token by default\n",
    "tokenizer.pad_token = tokenizer.eos_token\n",
    "\n",
    "# Tokenize the jokes\n",
    "tokenized_jokes = tokenizer(jokes, return_tensors='tf', padding=True, truncation=True, max_length=128)\n",
    "\n",
    "# Extract the tokenized input IDs and attention masks\n",
    "x_input_ids = tokenized_jokes['input_ids']\n",
    "x_attention_masks = tokenized_jokes['attention_mask']\n",
    "\n",
    "# Create the labels for language modeling (same as input_ids)\n",
    "labels = x_input_ids[:, 1:]\n",
    "input_ids = x_input_ids[:, :-1]\n",
    "attention_masks = x_attention_masks[:, :-1]\n",
    "\n",
    "# Create a TensorFlow dataset with inputs and labels\n",
    "train_dataset = tf.data.Dataset.from_tensor_slices(({'input_ids': input_ids, 'attention_mask': attention_masks}, labels))\n",
    "\n",
    "# Shuffle and batch the dataset for training\n",
    "train_dataset = train_dataset.shuffle(len(jokes)).batch(2)  # Adjust batch size as needed\n",
    "\n",
    "# Compile the model with Adam optimizer and custom loss function\n",
    "optimizer = tf.keras.optimizers.AdamW(learning_rate=3e-5)\n",
    "early_stopping = tf.keras.callbacks.EarlyStopping(\n",
    "    monitor='loss', \n",
    "    patience=3,\n",
    "    restore_best_weights=True\n",
    ")"
   ]
  },
  {
   "cell_type": "code",
   "execution_count": 4,
   "id": "7d3d1575-c4de-45f1-852b-5ec5aa5d3c01",
   "metadata": {
    "deletable": true,
    "editable": true,
    "frozen": false
   },
   "outputs": [
    {
     "name": "stdout",
     "output_type": "stream",
     "text": [
      "Epoch 1/50\n"
     ]
    },
    {
     "name": "stderr",
     "output_type": "stream",
     "text": [
      "WARNING: All log messages before absl::InitializeLog() is called are written to STDERR\n",
      "I0000 00:00:1729752216.737343 2963365 service.cc:146] XLA service 0x146387a68b00 initialized for platform CUDA (this does not guarantee that XLA will be used). Devices:\n",
      "I0000 00:00:1729752216.737367 2963365 service.cc:154]   StreamExecutor device (0): Tesla V100-SXM2-32GB, Compute Capability 7.0\n",
      "2024-10-24 06:43:36.745443: I tensorflow/compiler/mlir/tensorflow/utils/dump_mlir_util.cc:268] disabling MLIR crash reproducer, set env var `MLIR_CRASH_REPRODUCER_DIRECTORY` to enable.\n",
      "2024-10-24 06:43:36.763450: I external/local_xla/xla/stream_executor/cuda/cuda_dnn.cc:531] Loaded cuDNN version 8907\n",
      "I0000 00:00:1729752216.821456 2963365 device_compiler.h:188] Compiled cluster using XLA!  This line is logged at most once for the lifetime of the process.\n"
     ]
    },
    {
     "name": "stdout",
     "output_type": "stream",
     "text": [
      "811/811 [==============================] - 61s 40ms/step - loss: 1.4710\n",
      "Epoch 2/50\n",
      "811/811 [==============================] - 32s 39ms/step - loss: 1.1905\n",
      "Epoch 3/50\n",
      "811/811 [==============================] - 33s 40ms/step - loss: 1.0134\n",
      "Epoch 4/50\n",
      "811/811 [==============================] - 32s 39ms/step - loss: 0.8588\n",
      "Epoch 5/50\n",
      "811/811 [==============================] - 32s 40ms/step - loss: 0.7191\n",
      "Epoch 6/50\n",
      "811/811 [==============================] - 32s 40ms/step - loss: 0.5928\n",
      "Epoch 7/50\n",
      "811/811 [==============================] - 32s 39ms/step - loss: 0.4873\n",
      "Epoch 8/50\n",
      "811/811 [==============================] - 32s 39ms/step - loss: 0.4015\n",
      "Epoch 9/50\n",
      "811/811 [==============================] - 32s 39ms/step - loss: 0.3371\n",
      "Epoch 10/50\n",
      "811/811 [==============================] - 32s 39ms/step - loss: 0.2869\n",
      "Epoch 11/50\n",
      "811/811 [==============================] - 32s 39ms/step - loss: 0.2583\n",
      "Epoch 12/50\n",
      "811/811 [==============================] - 32s 39ms/step - loss: 0.2283\n",
      "Epoch 13/50\n",
      "811/811 [==============================] - 33s 40ms/step - loss: 0.2098\n",
      "Epoch 14/50\n",
      "811/811 [==============================] - 33s 41ms/step - loss: 0.1970\n",
      "Epoch 15/50\n",
      "811/811 [==============================] - 32s 39ms/step - loss: 0.1865\n",
      "Epoch 16/50\n",
      "811/811 [==============================] - 32s 39ms/step - loss: 0.1777\n",
      "Epoch 17/50\n",
      "811/811 [==============================] - 32s 39ms/step - loss: 0.1703\n",
      "Epoch 18/50\n",
      "811/811 [==============================] - 32s 39ms/step - loss: 0.1621\n",
      "Epoch 19/50\n",
      "811/811 [==============================] - 32s 39ms/step - loss: 0.1613\n",
      "Epoch 20/50\n",
      "811/811 [==============================] - 32s 39ms/step - loss: 0.1545\n",
      "Epoch 21/50\n",
      "811/811 [==============================] - 32s 39ms/step - loss: 0.1524\n",
      "Epoch 22/50\n",
      "811/811 [==============================] - 32s 39ms/step - loss: 0.1499\n",
      "Epoch 23/50\n",
      "811/811 [==============================] - 32s 40ms/step - loss: 0.1453\n",
      "Epoch 24/50\n",
      "811/811 [==============================] - 32s 39ms/step - loss: 0.1430\n",
      "Epoch 25/50\n",
      "811/811 [==============================] - 32s 39ms/step - loss: 0.1384\n",
      "Epoch 26/50\n",
      "811/811 [==============================] - 32s 39ms/step - loss: 0.1380\n",
      "Epoch 27/50\n",
      "811/811 [==============================] - 32s 39ms/step - loss: 0.1370\n",
      "Epoch 28/50\n",
      "811/811 [==============================] - 32s 40ms/step - loss: 0.1348\n",
      "Epoch 29/50\n",
      "811/811 [==============================] - 34s 42ms/step - loss: 0.1332\n",
      "Epoch 30/50\n",
      "811/811 [==============================] - 32s 39ms/step - loss: 0.1295\n",
      "Epoch 31/50\n",
      "811/811 [==============================] - 33s 41ms/step - loss: 0.1303\n",
      "Epoch 32/50\n",
      "811/811 [==============================] - 32s 40ms/step - loss: 0.1287\n",
      "Epoch 33/50\n",
      "811/811 [==============================] - 32s 39ms/step - loss: 0.1260\n",
      "Epoch 34/50\n",
      "811/811 [==============================] - 31s 38ms/step - loss: 0.1276\n",
      "Epoch 35/50\n",
      "811/811 [==============================] - 32s 39ms/step - loss: 0.1247\n",
      "Epoch 36/50\n",
      "811/811 [==============================] - 31s 39ms/step - loss: 0.1243\n",
      "Epoch 37/50\n",
      "811/811 [==============================] - 32s 39ms/step - loss: 0.1218\n",
      "Epoch 38/50\n",
      "811/811 [==============================] - 32s 39ms/step - loss: 0.1214\n",
      "Epoch 39/50\n",
      "811/811 [==============================] - 31s 39ms/step - loss: 0.1201\n",
      "Epoch 40/50\n",
      "811/811 [==============================] - 33s 41ms/step - loss: 0.1194\n",
      "Epoch 41/50\n",
      "811/811 [==============================] - 31s 39ms/step - loss: 0.1186\n",
      "Epoch 42/50\n",
      "811/811 [==============================] - 32s 39ms/step - loss: 0.1171\n",
      "Epoch 43/50\n",
      "811/811 [==============================] - 31s 39ms/step - loss: 0.1165\n",
      "Epoch 44/50\n",
      "811/811 [==============================] - 31s 38ms/step - loss: 0.1191\n",
      "Epoch 45/50\n",
      "811/811 [==============================] - 31s 38ms/step - loss: 0.1155\n",
      "Epoch 46/50\n",
      "811/811 [==============================] - 31s 38ms/step - loss: 0.1157\n",
      "Epoch 47/50\n",
      "811/811 [==============================] - 31s 38ms/step - loss: 0.1156\n",
      "Epoch 48/50\n",
      "811/811 [==============================] - 31s 38ms/step - loss: 0.1146\n",
      "Epoch 49/50\n",
      "811/811 [==============================] - 33s 40ms/step - loss: 0.1141\n",
      "Epoch 50/50\n",
      "811/811 [==============================] - 33s 41ms/step - loss: 0.1124\n"
     ]
    }
   ],
   "source": [
    "model.compile(optimizer=optimizer,\n",
    "              loss=tf.keras.losses.SparseCategoricalCrossentropy(from_logits=True))\n",
    "\n",
    "# Fine-tune the GPT-2 model on the jokes dataset\n",
    "history = model.fit(train_dataset, \n",
    "                    epochs=50, \n",
    "                    callbacks=[early_stopping])"
   ]
  },
  {
   "cell_type": "code",
   "execution_count": 5,
   "id": "26cf2fbb-7602-499c-ac43-7c0d65a21905",
   "metadata": {
    "deletable": true,
    "editable": true,
    "frozen": false
   },
   "outputs": [
    {
     "data": {
      "text/plain": [
       "('./gpt2-joke-model/tokenizer_config.json',\n",
       " './gpt2-joke-model/special_tokens_map.json',\n",
       " './gpt2-joke-model/vocab.json',\n",
       " './gpt2-joke-model/merges.txt',\n",
       " './gpt2-joke-model/added_tokens.json')"
      ]
     },
     "execution_count": 5,
     "metadata": {},
     "output_type": "execute_result"
    }
   ],
   "source": [
    "# Save the fine-tuned model and tokenizer\n",
    "model.save_pretrained(\"./gpt2-joke-model\")\n",
    "tokenizer.save_pretrained(\"./gpt2-joke-model\")"
   ]
  },
  {
   "cell_type": "markdown",
   "id": "96dee6ff-1c5a-433d-80d8-349fb224c81c",
   "metadata": {
    "deletable": true,
    "editable": true,
    "frozen": false
   },
   "source": [
    "## plot model loss"
   ]
  },
  {
   "cell_type": "code",
   "execution_count": 7,
   "id": "7e6140b3-e721-43ec-9fa6-ba125abafc9d",
   "metadata": {
    "deletable": true,
    "editable": true,
    "frozen": false
   },
   "outputs": [
    {
     "data": {
      "text/plain": [
       "Text(0, 0.5, 'Loss')"
      ]
     },
     "execution_count": 7,
     "metadata": {},
     "output_type": "execute_result"
    },
    {
     "data": {
      "image/png": "[encoded data removed]",
      "text/plain": [
       "<Figure size 640x480 with 1 Axes>"
      ]
     },
     "metadata": {},
     "output_type": "display_data"
    }
   ],
   "source": [
    "plt_loss = history.history['loss']\n",
    "plt_epoch = range(1, len(plt_loss) + 1)\n",
    "plt.plot(plt_epoch, plt_loss, label='loss')\n",
    "\n",
    "plt.legend()\n",
    "plt.xlabel('Epoch')\n",
    "plt.ylabel('Loss')"
   ]
  },
  {
   "cell_type": "markdown",
   "id": "08bcde78-21fa-4fba-91e8-080841a9d22a",
   "metadata": {
    "deletable": true,
    "editable": true,
    "frozen": false
   },
   "source": [
    "## generate jokes"
   ]
  },
  {
   "cell_type": "code",
   "execution_count": 7,
   "id": "ed5ef978-5554-4bc3-9208-a031a9589f70",
   "metadata": {
    "deletable": true,
    "editable": true,
    "frozen": false
   },
   "outputs": [
    {
     "name": "stderr",
     "output_type": "stream",
     "text": [
      "All model checkpoint layers were used when initializing TFGPT2LMHeadModel.\n",
      "\n",
      "All the layers of TFGPT2LMHeadModel were initialized from the model checkpoint at ./gpt2-joke-model.\n",
      "If your task is similar to the task the model of the checkpoint was trained on, you can already use TFGPT2LMHeadModel for predictions without further training.\n"
     ]
    }
   ],
   "source": [
    "x_tokenizer = GPT2Tokenizer.from_pretrained(\"./gpt2-joke-model\")\n",
    "x_model = TFGPT2LMHeadModel.from_pretrained('./gpt2-joke-model')\n",
    "\n",
    "# Function to generate jokes from three starting words\n",
    "def generate_joke(starting_words, max_length=50):\n",
    "    # Encode the starting words\n",
    "    input_ids = x_tokenizer.encode(starting_words, return_tensors='tf')\n",
    "    \n",
    "    # Create an attention mask (all 1s, since we don't have padding in this example input)\n",
    "    attention_mask = tf.ones_like(input_ids)\n",
    "    \n",
    "    # Generate joke from the model\n",
    "    output = x_model.generate(\n",
    "        input_ids,\n",
    "        attention_mask=attention_mask,  # Explicitly pass attention mask\n",
    "        max_length=max_length,\n",
    "        num_return_sequences=1,\n",
    "        no_repeat_ngram_size=2,\n",
    "        top_p=0.95,\n",
    "        temperature=0.8,\n",
    "        do_sample=True,\n",
    "        pad_token_id=x_tokenizer.eos_token_id  # Set pad_token_id explicitly to eos_token_id\n",
    "    )\n",
    "    \n",
    "    # Decode the generated joke\n",
    "    joke = x_tokenizer.decode(output[0], skip_special_tokens=True)\n",
    "    return joke"
   ]
  },
  {
   "cell_type": "code",
   "execution_count": 8,
   "id": "18a1dd99-6a50-475a-8f3e-0a2723166487",
   "metadata": {
    "deletable": true,
    "editable": true,
    "frozen": false
   },
   "outputs": [
    {
     "name": "stdout",
     "output_type": "stream",
     "text": [
      "Joke: What did the neutrino say to the planet? Just passing through\n",
      "Joke: A horse walks into a bar, orders a beer. The bartender says, \"Why the long face?\" And the horse answers, In a way.\n",
      "Joke: The dog ran into the water. And the cat? The dog\n",
      "Joke: The boy flew into the doctor's office . . He said to the urologist: \"I've hurt my arm in several places.\" The doctor said: And the boy said he's not sure: He's had a brain tumor.\n",
      "Joke: A mosquito ate a paperclip. It was a tissue donation.\n",
      "Joke: The youtuber committed suicide today... He accidentally spilled his beer in the middle of the road. Now he's fully recovered.\n",
      "Joke: A rat ratted my arm and said, \"I'll get your coat...\"\n",
      "Joke: A fruit fly walks into a bar... He goes up to the hostess and says, \"You're more beautiful than any other fruit in my collection\" She replied, No, I don't.\n",
      "Joke: A fruit fly walks into a bar... He hits the bartender with a peach. The bartender says, \"What is this, a joke?\"\n",
      "Joke: A fruit fly walks into a bar... He goes up to the hostess and says, \"You're more beautiful than any fly in my book\" She replied, No, I don't.\n"
     ]
    }
   ],
   "source": [
    "# List of starting phrases for the jokes\n",
    "starting_words_list = [\n",
    "    \"What did the\",\n",
    "    \"A horse walks\",\n",
    "    \"The dog ran\",\n",
    "    \"The boy flew\",\n",
    "    \"A mosquito ate\",\n",
    "    \"The youtuber committed\",\n",
    "    \"A rat ratted\"\n",
    "]\n",
    "\n",
    "# Loop through the starting phrases and generate jokes\n",
    "for starting_words in starting_words_list:\n",
    "    print(\"Joke:\", generate_joke(starting_words))\n",
    "\n",
    "# test what happens when generating same starting\n",
    "repeat_phrases = [\"A fruit fly\"] * 3 \n",
    "for starting_words in repeat_phrases:\n",
    "    print(\"Joke:\", generate_joke(starting_words))\n"
   ]
  },
  {
   "cell_type": "markdown",
   "id": "e6164832-40b6-47b3-a095-710bbfeeb207",
   "metadata": {
    "deletable": true,
    "editable": true,
    "frozen": false
   },
   "source": [
    "## sample token view"
   ]
  },
  {
   "cell_type": "code",
   "execution_count": 6,
   "id": "c7e767ad-77e6-46e0-bf28-5b7f6a5b5429",
   "metadata": {
    "deletable": true,
    "editable": true,
    "frozen": false
   },
   "outputs": [
    {
     "name": "stdout",
     "output_type": "stream",
     "text": [
      "Token: 'what' | Token ID: 10919 | Decoded: 'what'\n",
      "Token: 'did' | Token ID: 20839 | Decoded: 'did'\n",
      "Token: 'the' | Token ID: 1169 | Decoded: 'the'\n",
      "Token: 'joke' | Token ID: 73 | Decoded: 'j'\n",
      "Token: 'say' | Token ID: 16706 | Decoded: 'say'\n"
     ]
    }
   ],
   "source": [
    "tokens_to_print = [\"what\", \"did\", \"the\", \"joke\", \"say\"]\n",
    "\n",
    "for token in tokens_to_print:\n",
    "    token_id = x_tokenizer.encode(token)[0]\n",
    "    decoded_token = x_tokenizer.decode([token_id])\n",
    "    print(f\"Token: '{token}' | Token ID: {token_id} | Decoded: '{decoded_token}'\")\n"
   ]
  }
 ],
 "metadata": {
  "kernelspec": {
   "display_name": "Python 3 (ipykernel)",
   "language": "python",
   "name": "python3"
  },
  "language_info": {
   "codemirror_mode": {
    "name": "ipython",
    "version": 3
   },
   "file_extension": ".py",
   "mimetype": "text/x-python",
   "name": "python",
   "nbconvert_exporter": "python",
   "pygments_lexer": "ipython3",
   "version": "3.11.8"
  }
 },
 "nbformat": 4,
 "nbformat_minor": 5
}
