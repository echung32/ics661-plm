{
 "cells": [
  {
   "cell_type": "markdown",
   "id": "8cb07fb5-45dc-43a3-98f5-132666969bec",
   "metadata": {
    "deletable": true,
    "editable": true,
    "frozen": false
   },
   "source": [
    "# ethan chung"
   ]
  },
  {
   "cell_type": "code",
   "execution_count": 1,
   "id": "75310078-e31f-4caf-b6da-cd910a3bb5d0",
   "metadata": {
    "deletable": true,
    "editable": true,
    "frozen": false
   },
   "outputs": [
    {
     "name": "stderr",
     "output_type": "stream",
     "text": [
      "2024-10-24 07:19:45.243650: E external/local_xla/xla/stream_executor/cuda/cuda_fft.cc:485] Unable to register cuFFT factory: Attempting to register factory for plugin cuFFT when one has already been registered\n",
      "2024-10-24 07:19:45.261721: E external/local_xla/xla/stream_executor/cuda/cuda_dnn.cc:8454] Unable to register cuDNN factory: Attempting to register factory for plugin cuDNN when one has already been registered\n",
      "2024-10-24 07:19:45.267344: E external/local_xla/xla/stream_executor/cuda/cuda_blas.cc:1452] Unable to register cuBLAS factory: Attempting to register factory for plugin cuBLAS when one has already been registered\n",
      "2024-10-24 07:19:45.282025: I tensorflow/core/platform/cpu_feature_guard.cc:210] This TensorFlow binary is optimized to use available CPU instructions in performance-critical operations.\n",
      "To enable the following instructions: AVX2 FMA, in other operations, rebuild TensorFlow with the appropriate compiler flags.\n",
      "2024-10-24 07:19:47.284851: W tensorflow/compiler/tf2tensorrt/utils/py_utils.cc:38] TF-TRT Warning: Could not find TensorRT\n"
     ]
    },
    {
     "data": {
      "text/plain": [
       "[PhysicalDevice(name='/physical_device:GPU:0', device_type='GPU')]"
      ]
     },
     "execution_count": 1,
     "metadata": {},
     "output_type": "execute_result"
    }
   ],
   "source": [
    "import pandas as pd\n",
    "from transformers import GPT2Tokenizer, TFGPT2LMHeadModel\n",
    "import tensorflow as tf\n",
    "import matplotlib.pyplot as plt\n",
    "import re\n",
    "\n",
    "tf.config.list_physical_devices('GPU')"
   ]
  },
  {
   "cell_type": "markdown",
   "id": "743fb35e-b05e-4716-bb2a-e7df2058b552",
   "metadata": {
    "deletable": true,
    "editable": true,
    "frozen": false
   },
   "source": [
    "## load datasets (and clean URLs)"
   ]
  },
  {
   "cell_type": "code",
   "execution_count": 2,
   "id": "5b80c186-2bb0-478c-9c76-2a6d05026c8b",
   "metadata": {
    "deletable": true,
    "editable": true,
    "frozen": false
   },
   "outputs": [
    {
     "data": {
      "text/plain": [
       "0       What did the bartender say to the jumper cable...\n",
       "1       Don't you hate jokes about German sausage? The...\n",
       "2       Two artists had an art contest... It ended in ...\n",
       "3       Why did the chicken cross the playground? To g...\n",
       "4        What gun do you use to hunt a moose? A moosecut!\n",
       "                              ...                        \n",
       "1617    What do you call a camel with 3 humps? Humphre...\n",
       "1618    Two fish in a tank. [x-post from r/Jokes] One ...\n",
       "1619            \"Stay strong!\" I said to my wi-fi signal.\n",
       "1620    Why was the tomato blushing? Because it saw th...\n",
       "1621      What is heavy forward but not backward? **ton**\n",
       "Name: Joke, Length: 1622, dtype: object"
      ]
     },
     "metadata": {},
     "output_type": "display_data"
    }
   ],
   "source": [
    "# Load the dataset using pandas (Assuming your CSV has a column \"joke\")\n",
    "df = pd.read_csv(\"data.csv\")\n",
    "\n",
    "# Define a regex pattern to match URLs\n",
    "url_pattern = r'http\\S+|www\\S+|https\\S+'\n",
    "\n",
    "# Remove URLs from the jokes column using the regex pattern\n",
    "df['Joke'] = df['Joke'].apply(lambda text: re.sub(url_pattern, '', text))\n",
    "\n",
    "# Extract the cleaned jokes from the dataframe\n",
    "jokes = df['Joke'].tolist()\n",
    "\n",
    "display(df['Joke'])"
   ]
  },
  {
   "cell_type": "markdown",
   "id": "d83fbd8e-29e7-4c82-bd26-3f12a0096f79",
   "metadata": {
    "deletable": true,
    "editable": true,
    "frozen": false
   },
   "source": [
    "## init model"
   ]
  },
  {
   "cell_type": "code",
   "execution_count": 3,
   "id": "abfe31a2-b4ff-4dc7-8509-c5b0524d6bc2",
   "metadata": {
    "deletable": true,
    "editable": true,
    "frozen": false
   },
   "outputs": [
    {
     "name": "stderr",
     "output_type": "stream",
     "text": [
      "2024-10-24 07:19:51.130801: I tensorflow/core/common_runtime/gpu/gpu_device.cc:2021] Created device /job:localhost/replica:0/task:0/device:GPU:0 with 31134 MB memory:  -> device: 0, name: Tesla V100-SXM2-32GB, pci bus id: 0000:0b:00.0, compute capability: 7.0\n",
      "All PyTorch model weights were used when initializing TFGPT2LMHeadModel.\n",
      "\n",
      "All the weights of TFGPT2LMHeadModel were initialized from the PyTorch model.\n",
      "If your task is similar to the task the model of the checkpoint was trained on, you can already use TFGPT2LMHeadModel for predictions without further training.\n"
     ]
    }
   ],
   "source": [
    "# Load GPT-2 tokenizer\n",
    "tokenizer = GPT2Tokenizer.from_pretrained('gpt2')\n",
    "# Load pre-trained GPT-2 model\n",
    "model = TFGPT2LMHeadModel.from_pretrained('gpt2')\n",
    "\n",
    "# Add padding token for GPT-2 since GPT-2 does not have a pad token by default\n",
    "tokenizer.pad_token = tokenizer.eos_token\n",
    "\n",
    "# Tokenize the jokes\n",
    "tokenized_jokes = tokenizer(jokes, return_tensors='tf', padding=True, truncation=True, max_length=128)\n",
    "\n",
    "# Extract the tokenized input IDs and attention masks\n",
    "x_input_ids = tokenized_jokes['input_ids']\n",
    "x_attention_masks = tokenized_jokes['attention_mask']\n",
    "\n",
    "# Create the labels for language modeling (same as input_ids)\n",
    "labels = x_input_ids[:, 1:]\n",
    "input_ids = x_input_ids[:, :-1]\n",
    "attention_masks = x_attention_masks[:, :-1]\n",
    "\n",
    "# Create a TensorFlow dataset with inputs and labels\n",
    "train_dataset = tf.data.Dataset.from_tensor_slices(({'input_ids': input_ids, 'attention_mask': attention_masks}, labels))\n",
    "\n",
    "# Shuffle and batch the dataset for training\n",
    "train_dataset = train_dataset.shuffle(len(jokes)).batch(2)  # Adjust batch size as needed\n",
    "\n",
    "# Compile the model with Adam optimizer and custom loss function\n",
    "optimizer = tf.keras.optimizers.AdamW(learning_rate=3e-5)\n",
    "early_stopping = tf.keras.callbacks.EarlyStopping(\n",
    "    monitor='loss', \n",
    "    patience=3,\n",
    "    restore_best_weights=True\n",
    ")"
   ]
  },
  {
   "cell_type": "code",
   "execution_count": 4,
   "id": "7d3d1575-c4de-45f1-852b-5ec5aa5d3c01",
   "metadata": {
    "deletable": true,
    "editable": true,
    "frozen": false
   },
   "outputs": [
    {
     "name": "stdout",
     "output_type": "stream",
     "text": [
      "Epoch 1/10\n"
     ]
    },
    {
     "name": "stderr",
     "output_type": "stream",
     "text": [
      "WARNING: All log messages before absl::InitializeLog() is called are written to STDERR\n",
      "I0000 00:00:1729754415.765082 2980028 service.cc:146] XLA service 0x151f60b52c50 initialized for platform CUDA (this does not guarantee that XLA will be used). Devices:\n",
      "I0000 00:00:1729754415.765102 2980028 service.cc:154]   StreamExecutor device (0): Tesla V100-SXM2-32GB, Compute Capability 7.0\n",
      "2024-10-24 07:20:15.771781: I tensorflow/compiler/mlir/tensorflow/utils/dump_mlir_util.cc:268] disabling MLIR crash reproducer, set env var `MLIR_CRASH_REPRODUCER_DIRECTORY` to enable.\n",
      "2024-10-24 07:20:15.790960: I external/local_xla/xla/stream_executor/cuda/cuda_dnn.cc:531] Loaded cuDNN version 8907\n",
      "I0000 00:00:1729754415.849408 2980028 device_compiler.h:188] Compiled cluster using XLA!  This line is logged at most once for the lifetime of the process.\n"
     ]
    },
    {
     "name": "stdout",
     "output_type": "stream",
     "text": [
      "811/811 [==============================] - 66s 46ms/step - loss: 1.4805\n",
      "Epoch 2/10\n",
      "811/811 [==============================] - 37s 45ms/step - loss: 1.1923\n",
      "Epoch 3/10\n",
      "811/811 [==============================] - 37s 46ms/step - loss: 1.0191\n",
      "Epoch 4/10\n",
      "811/811 [==============================] - 37s 45ms/step - loss: 0.8627\n",
      "Epoch 5/10\n",
      "811/811 [==============================] - 37s 45ms/step - loss: 0.7215\n",
      "Epoch 6/10\n",
      "811/811 [==============================] - 37s 45ms/step - loss: 0.5928\n",
      "Epoch 7/10\n",
      "811/811 [==============================] - 37s 45ms/step - loss: 0.4882\n",
      "Epoch 8/10\n",
      "811/811 [==============================] - 37s 46ms/step - loss: 0.4020\n",
      "Epoch 9/10\n",
      "811/811 [==============================] - 38s 47ms/step - loss: 0.3393\n",
      "Epoch 10/10\n",
      "811/811 [==============================] - 38s 46ms/step - loss: 0.2908\n"
     ]
    }
   ],
   "source": [
    "model.compile(optimizer=optimizer,\n",
    "              loss=tf.keras.losses.SparseCategoricalCrossentropy(from_logits=True))\n",
    "\n",
    "# Fine-tune the GPT-2 model on the jokes dataset\n",
    "history = model.fit(train_dataset, \n",
    "                    epochs=10, \n",
    "                    callbacks=[early_stopping])"
   ]
  },
  {
   "cell_type": "code",
   "execution_count": 5,
   "id": "26cf2fbb-7602-499c-ac43-7c0d65a21905",
   "metadata": {
    "deletable": true,
    "editable": true,
    "frozen": false
   },
   "outputs": [
    {
     "data": {
      "text/plain": [
       "('./gpt2-joke-model-ablation/tokenizer_config.json',\n",
       " './gpt2-joke-model-ablation/special_tokens_map.json',\n",
       " './gpt2-joke-model-ablation/vocab.json',\n",
       " './gpt2-joke-model-ablation/merges.txt',\n",
       " './gpt2-joke-model-ablation/added_tokens.json')"
      ]
     },
     "execution_count": 5,
     "metadata": {},
     "output_type": "execute_result"
    }
   ],
   "source": [
    "# Save the fine-tuned model and tokenizer\n",
    "model.save_pretrained(\"./gpt2-joke-model-ablation\")\n",
    "tokenizer.save_pretrained(\"./gpt2-joke-model-ablation\")"
   ]
  },
  {
   "cell_type": "markdown",
   "id": "96dee6ff-1c5a-433d-80d8-349fb224c81c",
   "metadata": {
    "deletable": true,
    "editable": true,
    "frozen": false
   },
   "source": [
    "## plot model loss"
   ]
  },
  {
   "cell_type": "code",
   "execution_count": 6,
   "id": "7e6140b3-e721-43ec-9fa6-ba125abafc9d",
   "metadata": {
    "deletable": true,
    "editable": true,
    "frozen": false
   },
   "outputs": [
    {
     "data": {
      "text/plain": [
       "Text(0, 0.5, 'Loss')"
      ]
     },
     "execution_count": 6,
     "metadata": {},
     "output_type": "execute_result"
    },
    {
     "data": {
      "image/png": "[encoded data removed]",
      "text/plain": [
       "<Figure size 640x480 with 1 Axes>"
      ]
     },
     "metadata": {},
     "output_type": "display_data"
    }
   ],
   "source": [
    "plt_loss = history.history['loss']\n",
    "plt_epoch = range(1, len(plt_loss) + 1)\n",
    "plt.plot(plt_epoch, plt_loss, label='loss')\n",
    "\n",
    "plt.legend()\n",
    "plt.xlabel('Epoch')\n",
    "plt.ylabel('Loss')"
   ]
  },
  {
   "cell_type": "markdown",
   "id": "08bcde78-21fa-4fba-91e8-080841a9d22a",
   "metadata": {
    "deletable": true,
    "editable": true,
    "frozen": false
   },
   "source": [
    "## generate jokes"
   ]
  },
  {
   "cell_type": "code",
   "execution_count": 7,
   "id": "ed5ef978-5554-4bc3-9208-a031a9589f70",
   "metadata": {
    "deletable": true,
    "editable": true,
    "frozen": false
   },
   "outputs": [
    {
     "name": "stderr",
     "output_type": "stream",
     "text": [
      "All model checkpoint layers were used when initializing TFGPT2LMHeadModel.\n",
      "\n",
      "All the layers of TFGPT2LMHeadModel were initialized from the model checkpoint at ./gpt2-joke-model-ablation.\n",
      "If your task is similar to the task the model of the checkpoint was trained on, you can already use TFGPT2LMHeadModel for predictions without further training.\n"
     ]
    }
   ],
   "source": [
    "x_tokenizer = GPT2Tokenizer.from_pretrained(\"./gpt2-joke-model-ablation\")\n",
    "x_model = TFGPT2LMHeadModel.from_pretrained('./gpt2-joke-model-ablation')\n",
    "\n",
    "# Function to generate jokes from three starting words\n",
    "def generate_joke(starting_words, max_length=50):\n",
    "    # Encode the starting words\n",
    "    input_ids = x_tokenizer.encode(starting_words, return_tensors='tf')\n",
    "    \n",
    "    # Create an attention mask (all 1s, since we don't have padding in this example input)\n",
    "    attention_mask = tf.ones_like(input_ids)\n",
    "    \n",
    "    # Generate joke from the model\n",
    "    output = x_model.generate(\n",
    "        input_ids,\n",
    "        attention_mask=attention_mask,  # Explicitly pass attention mask\n",
    "        max_length=max_length,\n",
    "        num_return_sequences=1,\n",
    "        no_repeat_ngram_size=2,\n",
    "        top_p=0.95,\n",
    "        temperature=0.8,\n",
    "        do_sample=True,\n",
    "        pad_token_id=x_tokenizer.eos_token_id  # Set pad_token_id explicitly to eos_token_id\n",
    "    )\n",
    "    \n",
    "    # Decode the generated joke\n",
    "    joke = x_tokenizer.decode(output[0], skip_special_tokens=True)\n",
    "    return joke"
   ]
  },
  {
   "cell_type": "code",
   "execution_count": 8,
   "id": "18a1dd99-6a50-475a-8f3e-0a2723166487",
   "metadata": {
    "deletable": true,
    "editable": true,
    "frozen": false
   },
   "outputs": [
    {
     "name": "stdout",
     "output_type": "stream",
     "text": [
      "Joke: What did the name of the man who invented the round table? Sir Cumference.\n",
      "Joke: A horse walks into a bar... The bartender says, \"What is this, a joke?\"\n",
      "Joke: The dog ran into the wall and fell. He couldn't get up and ran away.\n",
      "Joke: The boy flew into a hotel owned by a dalliance. The bellhop asked if he wanted to dance. \"No,\" he replied.\n",
      "Joke: A mosquito ate a cartridge and ran away. The cartridge said to him, \"I'll catch you later, maaan.\"\n",
      "Joke: The youtuber committed suicide after posting a joke about police searches. He was responding to a police search for a suspect in a string of disturbing news. When asked, he replied: \"I'm responding in self defense.\"\n",
      "Joke: A rat ratted a table In a hotel room in Mexico City, Donald Trump walked into a saloon and told the people there, \"Look at this table and take this food.\"\n",
      "Joke: A fruit fly and a rabbit are having a dispute... A fruit flies and rabbit cant walk up to the fruit and say, \"We have a problem with pesticides.\"\n",
      "Joke: A fruit fly. A fruit walk. And a fruit dance.\n",
      "Joke: A fruit fly and a rabbit are chassing each other... As they walk down the street, one says to the other, \"Do you smell carrots?\"\n"
     ]
    }
   ],
   "source": [
    "# List of starting phrases for the jokes\n",
    "starting_words_list = [\n",
    "    \"What did the\",\n",
    "    \"A horse walks\",\n",
    "    \"The dog ran\",\n",
    "    \"The boy flew\",\n",
    "    \"A mosquito ate\",\n",
    "    \"The youtuber committed\",\n",
    "    \"A rat ratted\"\n",
    "]\n",
    "\n",
    "# Loop through the starting phrases and generate jokes\n",
    "for starting_words in starting_words_list:\n",
    "    print(\"Joke:\", generate_joke(starting_words))\n",
    "\n",
    "# test what happens when generating same starting\n",
    "repeat_phrases = [\"A fruit fly\"] * 3 \n",
    "for starting_words in repeat_phrases:\n",
    "    print(\"Joke:\", generate_joke(starting_words))\n"
   ]
  },
  {
   "cell_type": "markdown",
   "id": "e6164832-40b6-47b3-a095-710bbfeeb207",
   "metadata": {
    "deletable": true,
    "editable": true,
    "frozen": false
   },
   "source": [
    "## sample token view"
   ]
  },
  {
   "cell_type": "code",
   "execution_count": 9,
   "id": "c7e767ad-77e6-46e0-bf28-5b7f6a5b5429",
   "metadata": {
    "deletable": true,
    "editable": true,
    "frozen": false
   },
   "outputs": [
    {
     "name": "stdout",
     "output_type": "stream",
     "text": [
      "Token: 'what' | Token ID: 10919 | Decoded: 'what'\n",
      "Token: 'did' | Token ID: 20839 | Decoded: 'did'\n",
      "Token: 'the' | Token ID: 1169 | Decoded: 'the'\n",
      "Token: 'joke' | Token ID: 73 | Decoded: 'j'\n",
      "Token: 'say' | Token ID: 16706 | Decoded: 'say'\n"
     ]
    }
   ],
   "source": [
    "tokens_to_print = [\"what\", \"did\", \"the\", \"joke\", \"say\"]\n",
    "\n",
    "for token in tokens_to_print:\n",
    "    token_id = x_tokenizer.encode(token)[0]\n",
    "    decoded_token = x_tokenizer.decode([token_id])\n",
    "    print(f\"Token: '{token}' | Token ID: {token_id} | Decoded: '{decoded_token}'\")\n"
   ]
  }
 ],
 "metadata": {
  "kernelspec": {
   "display_name": "Python 3 (ipykernel)",
   "language": "python",
   "name": "python3"
  },
  "language_info": {
   "codemirror_mode": {
    "name": "ipython",
    "version": 3
   },
   "file_extension": ".py",
   "mimetype": "text/x-python",
   "name": "python",
   "nbconvert_exporter": "python",
   "pygments_lexer": "ipython3",
   "version": "3.11.8"
  }
 },
 "nbformat": 4,
 "nbformat_minor": 5
}
